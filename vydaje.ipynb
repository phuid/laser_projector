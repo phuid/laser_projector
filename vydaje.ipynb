{
 "cells": [
  {
   "cell_type": "code",
   "execution_count": 14,
   "metadata": {},
   "outputs": [
    {
     "name": "stdout",
     "output_type": "stream",
     "text": [
      "mone: 8970\n"
     ]
    }
   ],
   "source": [
    "total = 0\n",
    "\n",
    "filament = 500\n",
    "# max 500czk za jeden - maybe 2x  \n",
    "filament *= 2\n",
    "total += filament\n",
    "\n",
    "RPi = 2200 # RPi 5 8GB (wow, banger)\n",
    "total += RPi\n",
    "\n",
    "galva = 2200\n",
    "total += galva\n",
    "\n",
    "laser = 1800\n",
    "total += laser\n",
    "\n",
    "signal = 0\n",
    "signal += 90\n",
    "signal += 2* 50 # amps - 30-50czk\n",
    "total += signal\n",
    "\n",
    "napajeni = 0\n",
    "# baterky\n",
    "napajeni += 4*275 # 4-6x (podle toho, kolik se jich vleze) 18650 idk kolik stoji\n",
    "# 4000mAh 275kc https://www.abaterie.cz/baterie-samsung-21700-inr21700-40t-li-ion-3-6-v-4000-mah/\n",
    "# 2x 18650 - 6000mAh 425kc https://www.abaterie.cz/baterie-samsung-2xinr18650-30q-6000mah-20a/\n",
    "\n",
    "#ochrana\n",
    "napajeni += 58 #https://www.laskakit.cz/ochrana-li-ion-baterie-4s-40a/\n",
    "\n",
    "# napeti\n",
    "napajeni += 48 # 3A RPi https://www.laskakit.cz/step-down-menic-s-xl4005/\n",
    "napajeni += 28 # 1A galva https://www.laskakit.cz/step-down-menic-s-lm2596/\n",
    "napajeni += 28 # 1A laser https://www.laskakit.cz/step-down-menic-s-lm2596/\n",
    "napajeni += 88 # +-15V boost https://www.laskakit.cz/step-up-boost-menic-s-xl6007-15v-zdroj-symetrickeho-napeti/\n",
    "# +-15V boost connected to rpis 5V\n",
    "napajeni += 70 # 65kc balikovna\n",
    "\n",
    "# deprecated - kdyby paralelne -> step-ups\n",
    "# napajeni += 38 # 3A RPi https://www.laskakit.cz/step-up-boost-menic-s-xl6009--modra/\n",
    "# napajeni += 18 # 2A galva https://www.laskakit.cz/step-up-boost-menic-s-mt3608/\n",
    "# napajeni += 18 # 2A laser (1A would be enough) https://www.laskakit.cz/step-up-boost-menic-s-mt3608/\n",
    "# napajeni += 88 # +-15V boost https://www.laskakit.cz/step-up-boost-menic-s-xl6007-15v-zdroj-symetrickeho-napeti/\n",
    "# napajeni += 70 # 65kc balikovna\n",
    "\n",
    "total += napajeni\n",
    "\n",
    "oled = 160 # https://www.laskakit.cz/20x4-lcd-displej-2004-modry-i2c-prevodnik/\n",
    "total += oled\n",
    "\n",
    "print (\"mone: \" + str(total))"
   ]
  },
  {
   "cell_type": "code",
   "execution_count": 13,
   "metadata": {},
   "outputs": [
    {
     "name": "stdout",
     "output_type": "stream",
     "text": [
      "max power: 592.0W\n",
      "needed power: 42W\n"
     ]
    }
   ],
   "source": [
    "Vbat = 14.8 # 4x 18650 (3.7*4 = 14.8V, 4.2*4 = 16.8V)\n",
    "Imax = 40 # 10A per 18650 is less than the max 35A\n",
    "\n",
    "Pmax = Vbat * Imax\n",
    "\n",
    "print (\"max power: \" + str(Pmax) + \"W\")\n",
    "\n",
    "P = 0\n",
    "# 3A RPi\n",
    "P += 5 * 3 # 5V\n",
    "# -15V boost -> signal galva\n",
    "\n",
    "# 1A galva\n",
    "P += 1 * 15 # 15V\n",
    "# 1A laser\n",
    "P += 1 * 12 # 12V\n",
    "\n",
    "print (\"needed power: \" + str(P) + \"W\")"
   ]
  }
 ],
 "metadata": {
  "kernelspec": {
   "display_name": "Python 3",
   "language": "python",
   "name": "python3"
  },
  "language_info": {
   "codemirror_mode": {
    "name": "ipython",
    "version": 3
   },
   "file_extension": ".py",
   "mimetype": "text/x-python",
   "name": "python",
   "nbconvert_exporter": "python",
   "pygments_lexer": "ipython3",
   "version": "3.10.4"
  }
 },
 "nbformat": 4,
 "nbformat_minor": 2
}
